{
 "cells": [
  {
   "cell_type": "markdown",
   "metadata": {},
   "source": [
    "Name: Adam Celermajer Taz: 332638592"
   ]
  },
  {
   "cell_type": "markdown",
   "metadata": {
    "id": "wuJzhs4GYNCr"
   },
   "source": [
    "# Programming Exercise 3: Logistic Regression\n",
    "\n",
    "\n",
    "\n",
    "## Introduction\n",
    "\n",
    "In this exercise, you will implement logistic regression and apply it to two different datasets.\n",
    "\n",
    "All the information you need for solving this assignment is in this notebook, and all the code you will be implementing will take place within this notebook.\n",
    "\n",
    "Before we begin with the exercises, we need to import all libraries required for this programming exercise. Throughout the course, we will be using [`numpy`](http://www.numpy.org/) for all arrays and matrix operations, and [`matplotlib`](https://matplotlib.org/) for plotting."
   ]
  },
  {
   "cell_type": "markdown",
   "metadata": {
    "id": "572Szz3zYNCx"
   },
   "source": [
    "### Section 1 Logistic Regression\n",
    "\n",
    "In this part of the exercise, you will build a logistic regression model to predict whether a student gets admitted into a university. Suppose that you are the administrator of a university department and\n",
    "you want to determine each applicant’s chance of admission based on their results on two exams. You have historical data from previous applicants that you can use as a training set for logistic regression. For each training example, you have the applicant’s scores on two exams and the admissions\n",
    "decision. Your task is to build a classification model that estimates an applicant’s probability of admission based the scores from those two exams.\n",
    "\n",
    "The following cell will load the data and corresponding labels:"
   ]
  },
  {
   "cell_type": "code",
   "execution_count": 14,
   "metadata": {
    "executionInfo": {
     "elapsed": 318,
     "status": "ok",
     "timestamp": 1719247951995,
     "user": {
      "displayName": "adam celer",
      "userId": "12186521033448694813"
     },
     "user_tz": -180
    },
    "id": "Lgmshe1OYNCz"
   },
   "outputs": [],
   "source": [
    "import pandas as pd\n",
    "import numpy as np\n",
    "import matplotlib.pyplot as plt"
   ]
  },
  {
   "cell_type": "code",
   "execution_count": 15,
   "metadata": {
    "colab": {
     "base_uri": "https://localhost:8080/"
    },
    "executionInfo": {
     "elapsed": 2,
     "status": "ok",
     "timestamp": 1719247953318,
     "user": {
      "displayName": "adam celer",
      "userId": "12186521033448694813"
     },
     "user_tz": -180
    },
    "id": "3Vbtwq43YNC3",
    "outputId": "e28fd309-34a3-44ce-cddb-cac1e2dd7c89"
   },
   "outputs": [
    {
     "name": "stdout",
     "output_type": "stream",
     "text": [
      "size of samples: 100\n"
     ]
    }
   ],
   "source": [
    "students = pd.read_csv(\"ex2data1.txt\", names=[\"First_Exam\", \"Second_Exam\", \"Admission_Status\"])\n",
    "# type casting from pandas series and pandas dataframe to numpy array\n",
    "X = np.array(students[[\"First_Exam\", \"Second_Exam\"]])\n",
    "y = np.array(students[\"Admission_Status\"])\n",
    "# size of dataset\n",
    "number_of_samples = y.size\n",
    "# size of X matrix, m= rows, n= features\n",
    "m,n = X.shape\n",
    "print('size of samples: {}'.format(number_of_samples))"
   ]
  },
  {
   "cell_type": "code",
   "execution_count": 16,
   "metadata": {
    "colab": {
     "base_uri": "https://localhost:8080/",
     "height": 206
    },
    "executionInfo": {
     "elapsed": 5,
     "status": "ok",
     "timestamp": 1719247954292,
     "user": {
      "displayName": "adam celer",
      "userId": "12186521033448694813"
     },
     "user_tz": -180
    },
    "id": "QJoJPpy3YNC7",
    "outputId": "0e96bd7f-9277-4ddd-9ea8-f46ad8c534a9"
   },
   "outputs": [
    {
     "data": {
      "application/vnd.google.colaboratory.intrinsic+json": {
       "summary": "{\n  \"name\": \"students\",\n  \"rows\": 100,\n  \"fields\": [\n    {\n      \"column\": \"First_Exam\",\n      \"properties\": {\n        \"dtype\": \"number\",\n        \"std\": 19.458222275425072,\n        \"min\": 30.05882244669796,\n        \"max\": 99.82785779692128,\n        \"num_unique_values\": 100,\n        \"samples\": [\n          57.23870631569862,\n          34.52451385320009,\n          32.72283304060323\n        ],\n        \"semantic_type\": \"\",\n        \"description\": \"\"\n      }\n    },\n    {\n      \"column\": \"Second_Exam\",\n      \"properties\": {\n        \"dtype\": \"number\",\n        \"std\": 18.582783039307344,\n        \"min\": 30.60326323428011,\n        \"max\": 98.86943574220612,\n        \"num_unique_values\": 100,\n        \"samples\": [\n          59.51428198012956,\n          60.39634245837173,\n          43.30717306430063\n        ],\n        \"semantic_type\": \"\",\n        \"description\": \"\"\n      }\n    },\n    {\n      \"column\": \"Admission_Status\",\n      \"properties\": {\n        \"dtype\": \"number\",\n        \"std\": 0,\n        \"min\": 0,\n        \"max\": 1,\n        \"num_unique_values\": 2,\n        \"samples\": [\n          1,\n          0\n        ],\n        \"semantic_type\": \"\",\n        \"description\": \"\"\n      }\n    }\n  ]\n}",
       "type": "dataframe",
       "variable_name": "students"
      },
      "text/html": [
       "\n",
       "  <div id=\"df-1ba673f6-0006-4127-99bf-6244e99d7c62\" class=\"colab-df-container\">\n",
       "    <div>\n",
       "<style scoped>\n",
       "    .dataframe tbody tr th:only-of-type {\n",
       "        vertical-align: middle;\n",
       "    }\n",
       "\n",
       "    .dataframe tbody tr th {\n",
       "        vertical-align: top;\n",
       "    }\n",
       "\n",
       "    .dataframe thead th {\n",
       "        text-align: right;\n",
       "    }\n",
       "</style>\n",
       "<table border=\"1\" class=\"dataframe\">\n",
       "  <thead>\n",
       "    <tr style=\"text-align: right;\">\n",
       "      <th></th>\n",
       "      <th>First_Exam</th>\n",
       "      <th>Second_Exam</th>\n",
       "      <th>Admission_Status</th>\n",
       "    </tr>\n",
       "  </thead>\n",
       "  <tbody>\n",
       "    <tr>\n",
       "      <th>0</th>\n",
       "      <td>34.623660</td>\n",
       "      <td>78.024693</td>\n",
       "      <td>0</td>\n",
       "    </tr>\n",
       "    <tr>\n",
       "      <th>1</th>\n",
       "      <td>30.286711</td>\n",
       "      <td>43.894998</td>\n",
       "      <td>0</td>\n",
       "    </tr>\n",
       "    <tr>\n",
       "      <th>2</th>\n",
       "      <td>35.847409</td>\n",
       "      <td>72.902198</td>\n",
       "      <td>0</td>\n",
       "    </tr>\n",
       "    <tr>\n",
       "      <th>3</th>\n",
       "      <td>60.182599</td>\n",
       "      <td>86.308552</td>\n",
       "      <td>1</td>\n",
       "    </tr>\n",
       "    <tr>\n",
       "      <th>4</th>\n",
       "      <td>79.032736</td>\n",
       "      <td>75.344376</td>\n",
       "      <td>1</td>\n",
       "    </tr>\n",
       "  </tbody>\n",
       "</table>\n",
       "</div>\n",
       "    <div class=\"colab-df-buttons\">\n",
       "\n",
       "  <div class=\"colab-df-container\">\n",
       "    <button class=\"colab-df-convert\" onclick=\"convertToInteractive('df-1ba673f6-0006-4127-99bf-6244e99d7c62')\"\n",
       "            title=\"Convert this dataframe to an interactive table.\"\n",
       "            style=\"display:none;\">\n",
       "\n",
       "  <svg xmlns=\"http://www.w3.org/2000/svg\" height=\"24px\" viewBox=\"0 -960 960 960\">\n",
       "    <path d=\"M120-120v-720h720v720H120Zm60-500h600v-160H180v160Zm220 220h160v-160H400v160Zm0 220h160v-160H400v160ZM180-400h160v-160H180v160Zm440 0h160v-160H620v160ZM180-180h160v-160H180v160Zm440 0h160v-160H620v160Z\"/>\n",
       "  </svg>\n",
       "    </button>\n",
       "\n",
       "  <style>\n",
       "    .colab-df-container {\n",
       "      display:flex;\n",
       "      gap: 12px;\n",
       "    }\n",
       "\n",
       "    .colab-df-convert {\n",
       "      background-color: #E8F0FE;\n",
       "      border: none;\n",
       "      border-radius: 50%;\n",
       "      cursor: pointer;\n",
       "      display: none;\n",
       "      fill: #1967D2;\n",
       "      height: 32px;\n",
       "      padding: 0 0 0 0;\n",
       "      width: 32px;\n",
       "    }\n",
       "\n",
       "    .colab-df-convert:hover {\n",
       "      background-color: #E2EBFA;\n",
       "      box-shadow: 0px 1px 2px rgba(60, 64, 67, 0.3), 0px 1px 3px 1px rgba(60, 64, 67, 0.15);\n",
       "      fill: #174EA6;\n",
       "    }\n",
       "\n",
       "    .colab-df-buttons div {\n",
       "      margin-bottom: 4px;\n",
       "    }\n",
       "\n",
       "    [theme=dark] .colab-df-convert {\n",
       "      background-color: #3B4455;\n",
       "      fill: #D2E3FC;\n",
       "    }\n",
       "\n",
       "    [theme=dark] .colab-df-convert:hover {\n",
       "      background-color: #434B5C;\n",
       "      box-shadow: 0px 1px 3px 1px rgba(0, 0, 0, 0.15);\n",
       "      filter: drop-shadow(0px 1px 2px rgba(0, 0, 0, 0.3));\n",
       "      fill: #FFFFFF;\n",
       "    }\n",
       "  </style>\n",
       "\n",
       "    <script>\n",
       "      const buttonEl =\n",
       "        document.querySelector('#df-1ba673f6-0006-4127-99bf-6244e99d7c62 button.colab-df-convert');\n",
       "      buttonEl.style.display =\n",
       "        google.colab.kernel.accessAllowed ? 'block' : 'none';\n",
       "\n",
       "      async function convertToInteractive(key) {\n",
       "        const element = document.querySelector('#df-1ba673f6-0006-4127-99bf-6244e99d7c62');\n",
       "        const dataTable =\n",
       "          await google.colab.kernel.invokeFunction('convertToInteractive',\n",
       "                                                    [key], {});\n",
       "        if (!dataTable) return;\n",
       "\n",
       "        const docLinkHtml = 'Like what you see? Visit the ' +\n",
       "          '<a target=\"_blank\" href=https://colab.research.google.com/notebooks/data_table.ipynb>data table notebook</a>'\n",
       "          + ' to learn more about interactive tables.';\n",
       "        element.innerHTML = '';\n",
       "        dataTable['output_type'] = 'display_data';\n",
       "        await google.colab.output.renderOutput(dataTable, element);\n",
       "        const docLink = document.createElement('div');\n",
       "        docLink.innerHTML = docLinkHtml;\n",
       "        element.appendChild(docLink);\n",
       "      }\n",
       "    </script>\n",
       "  </div>\n",
       "\n",
       "\n",
       "<div id=\"df-65270bd2-2ad3-4c4c-a916-ff448ab1befb\">\n",
       "  <button class=\"colab-df-quickchart\" onclick=\"quickchart('df-65270bd2-2ad3-4c4c-a916-ff448ab1befb')\"\n",
       "            title=\"Suggest charts\"\n",
       "            style=\"display:none;\">\n",
       "\n",
       "<svg xmlns=\"http://www.w3.org/2000/svg\" height=\"24px\"viewBox=\"0 0 24 24\"\n",
       "     width=\"24px\">\n",
       "    <g>\n",
       "        <path d=\"M19 3H5c-1.1 0-2 .9-2 2v14c0 1.1.9 2 2 2h14c1.1 0 2-.9 2-2V5c0-1.1-.9-2-2-2zM9 17H7v-7h2v7zm4 0h-2V7h2v10zm4 0h-2v-4h2v4z\"/>\n",
       "    </g>\n",
       "</svg>\n",
       "  </button>\n",
       "\n",
       "<style>\n",
       "  .colab-df-quickchart {\n",
       "      --bg-color: #E8F0FE;\n",
       "      --fill-color: #1967D2;\n",
       "      --hover-bg-color: #E2EBFA;\n",
       "      --hover-fill-color: #174EA6;\n",
       "      --disabled-fill-color: #AAA;\n",
       "      --disabled-bg-color: #DDD;\n",
       "  }\n",
       "\n",
       "  [theme=dark] .colab-df-quickchart {\n",
       "      --bg-color: #3B4455;\n",
       "      --fill-color: #D2E3FC;\n",
       "      --hover-bg-color: #434B5C;\n",
       "      --hover-fill-color: #FFFFFF;\n",
       "      --disabled-bg-color: #3B4455;\n",
       "      --disabled-fill-color: #666;\n",
       "  }\n",
       "\n",
       "  .colab-df-quickchart {\n",
       "    background-color: var(--bg-color);\n",
       "    border: none;\n",
       "    border-radius: 50%;\n",
       "    cursor: pointer;\n",
       "    display: none;\n",
       "    fill: var(--fill-color);\n",
       "    height: 32px;\n",
       "    padding: 0;\n",
       "    width: 32px;\n",
       "  }\n",
       "\n",
       "  .colab-df-quickchart:hover {\n",
       "    background-color: var(--hover-bg-color);\n",
       "    box-shadow: 0 1px 2px rgba(60, 64, 67, 0.3), 0 1px 3px 1px rgba(60, 64, 67, 0.15);\n",
       "    fill: var(--button-hover-fill-color);\n",
       "  }\n",
       "\n",
       "  .colab-df-quickchart-complete:disabled,\n",
       "  .colab-df-quickchart-complete:disabled:hover {\n",
       "    background-color: var(--disabled-bg-color);\n",
       "    fill: var(--disabled-fill-color);\n",
       "    box-shadow: none;\n",
       "  }\n",
       "\n",
       "  .colab-df-spinner {\n",
       "    border: 2px solid var(--fill-color);\n",
       "    border-color: transparent;\n",
       "    border-bottom-color: var(--fill-color);\n",
       "    animation:\n",
       "      spin 1s steps(1) infinite;\n",
       "  }\n",
       "\n",
       "  @keyframes spin {\n",
       "    0% {\n",
       "      border-color: transparent;\n",
       "      border-bottom-color: var(--fill-color);\n",
       "      border-left-color: var(--fill-color);\n",
       "    }\n",
       "    20% {\n",
       "      border-color: transparent;\n",
       "      border-left-color: var(--fill-color);\n",
       "      border-top-color: var(--fill-color);\n",
       "    }\n",
       "    30% {\n",
       "      border-color: transparent;\n",
       "      border-left-color: var(--fill-color);\n",
       "      border-top-color: var(--fill-color);\n",
       "      border-right-color: var(--fill-color);\n",
       "    }\n",
       "    40% {\n",
       "      border-color: transparent;\n",
       "      border-right-color: var(--fill-color);\n",
       "      border-top-color: var(--fill-color);\n",
       "    }\n",
       "    60% {\n",
       "      border-color: transparent;\n",
       "      border-right-color: var(--fill-color);\n",
       "    }\n",
       "    80% {\n",
       "      border-color: transparent;\n",
       "      border-right-color: var(--fill-color);\n",
       "      border-bottom-color: var(--fill-color);\n",
       "    }\n",
       "    90% {\n",
       "      border-color: transparent;\n",
       "      border-bottom-color: var(--fill-color);\n",
       "    }\n",
       "  }\n",
       "</style>\n",
       "\n",
       "  <script>\n",
       "    async function quickchart(key) {\n",
       "      const quickchartButtonEl =\n",
       "        document.querySelector('#' + key + ' button');\n",
       "      quickchartButtonEl.disabled = true;  // To prevent multiple clicks.\n",
       "      quickchartButtonEl.classList.add('colab-df-spinner');\n",
       "      try {\n",
       "        const charts = await google.colab.kernel.invokeFunction(\n",
       "            'suggestCharts', [key], {});\n",
       "      } catch (error) {\n",
       "        console.error('Error during call to suggestCharts:', error);\n",
       "      }\n",
       "      quickchartButtonEl.classList.remove('colab-df-spinner');\n",
       "      quickchartButtonEl.classList.add('colab-df-quickchart-complete');\n",
       "    }\n",
       "    (() => {\n",
       "      let quickchartButtonEl =\n",
       "        document.querySelector('#df-65270bd2-2ad3-4c4c-a916-ff448ab1befb button');\n",
       "      quickchartButtonEl.style.display =\n",
       "        google.colab.kernel.accessAllowed ? 'block' : 'none';\n",
       "    })();\n",
       "  </script>\n",
       "</div>\n",
       "\n",
       "    </div>\n",
       "  </div>\n"
      ],
      "text/plain": [
       "   First_Exam  Second_Exam  Admission_Status\n",
       "0   34.623660    78.024693                 0\n",
       "1   30.286711    43.894998                 0\n",
       "2   35.847409    72.902198                 0\n",
       "3   60.182599    86.308552                 1\n",
       "4   79.032736    75.344376                 1"
      ]
     },
     "execution_count": 16,
     "metadata": {},
     "output_type": "execute_result"
    }
   ],
   "source": [
    "students.head()\n",
    "\n"
   ]
  },
  {
   "cell_type": "markdown",
   "metadata": {
    "id": "O9dmFnIOYNC8"
   },
   "source": [
    "### 1.1 Visualizing the data\n",
    "\n",
    "Before starting to implement any learning algorithm, it is always good to visualize the data if possible.\n",
    "please visualize the first dataset using the package `matplotlib`."
   ]
  },
  {
   "cell_type": "code",
   "execution_count": 17,
   "metadata": {
    "colab": {
     "base_uri": "https://localhost:8080/",
     "height": 449
    },
    "executionInfo": {
     "elapsed": 480,
     "status": "ok",
     "timestamp": 1719247956406,
     "user": {
      "displayName": "adam celer",
      "userId": "12186521033448694813"
     },
     "user_tz": -180
    },
    "id": "D_6f2k9tYNC9",
    "outputId": "a0fabe1b-a8f0-413e-be32-1deb911bf147"
   },
   "outputs": [
    {
     "data": {
      "image/png": "[encoded data removed]",
      "text/plain": [
       "<Figure size 640x480 with 1 Axes>"
      ]
     },
     "metadata": {},
     "output_type": "display_data"
    }
   ],
   "source": [
    "import matplotlib.pyplot as plt\n",
    "from mpl_toolkits import mplot3d\n",
    "\n",
    "plt.figure()\n",
    "plt.scatter(X[:, 0], X[:, 1], c=y, cmap='viridis', marker='o')\n",
    "\n",
    "# Setting labels\n",
    "plt.xlabel('First Exam Score')\n",
    "plt.ylabel('Second Exam Score')\n",
    "\n",
    "# Show plot\n",
    "plt.show()"
   ]
  },
  {
   "cell_type": "code",
   "execution_count": 17,
   "metadata": {
    "executionInfo": {
     "elapsed": 2,
     "status": "ok",
     "timestamp": 1719247957925,
     "user": {
      "displayName": "adam celer",
      "userId": "12186521033448694813"
     },
     "user_tz": -180
    },
    "id": "sMXCCMgpYNC-"
   },
   "outputs": [],
   "source": []
  },
  {
   "cell_type": "markdown",
   "metadata": {
    "id": "QJEHey_0YNDA"
   },
   "source": [
    "### 1.2 Implementation\n",
    "\n",
    "#### 1.2.1 Warmup exercise: sigmoid function\n",
    "\n",
    "Before you start with the actual cost function, recall that the logistic regression hypothesis is defined as:\n",
    "\n",
    "$$ h_\\theta(x) = g(\\theta^T x)$$\n",
    "\n",
    "where function $g$ is the sigmoid function. The sigmoid function is defined as:\n",
    "\n",
    "$$g(z) = \\frac{1}{1+e^{-z}}$$.\n",
    "\n",
    "Your first step is to implement this function `sigmoid` so it can be\n",
    "called by the rest of your program. When you are finished, try testing a few\n",
    "values by calling `sigmoid(x)` in a new cell. For large positive values of `x`, the sigmoid should be close to 1, while for large negative values, the sigmoid should be close to 0. Evaluating `sigmoid(0)` should give you exactly 0.5. Your code should also work with vectors and matrices. **For a matrix, your function should perform the sigmoid function on every element.**\n"
   ]
  },
  {
   "cell_type": "code",
   "execution_count": 47,
   "metadata": {
    "executionInfo": {
     "elapsed": 326,
     "status": "ok",
     "timestamp": 1719248580682,
     "user": {
      "displayName": "adam celer",
      "userId": "12186521033448694813"
     },
     "user_tz": -180
    },
    "id": "7WOpqf5QYNDB"
   },
   "outputs": [],
   "source": [
    "def sigmoid(z):\n",
    "    \"\"\"\n",
    "    Compute sigmoid function given the input z.\n",
    "\n",
    "    Parameters\n",
    "    ----------\n",
    "    z : array_like\n",
    "        The input to the sigmoid function. This can be a 1-D vector\n",
    "        or a 2-D matrix.\n",
    "\n",
    "    Returns\n",
    "    -------\n",
    "    g : array_like\n",
    "        The computed sigmoid function. g has the same shape as z, since\n",
    "        the sigmoid is computed element-wise on z.\n",
    "    \"\"\"\n",
    "    # numpy array support out of the box element wise operation so, the sigmoid will be done on each element\n",
    "    z = np.clip(z, -20, 20)\n",
    "\n",
    "    return np.where(z >= 0, 1 / (1 + np.exp(-z)), np.exp(z) / (1 + np.exp(z)))\n"
   ]
  },
  {
   "cell_type": "code",
   "execution_count": 19,
   "metadata": {
    "colab": {
     "base_uri": "https://localhost:8080/"
    },
    "executionInfo": {
     "elapsed": 1,
     "status": "ok",
     "timestamp": 1719247960254,
     "user": {
      "displayName": "adam celer",
      "userId": "12186521033448694813"
     },
     "user_tz": -180
    },
    "id": "F5TRpKrwYNDD",
    "outputId": "fc76de22-694c-4d81-cb56-001795415a1c"
   },
   "outputs": [
    {
     "name": "stdout",
     "output_type": "stream",
     "text": [
      "Actual value of sigmoid(0) should be 0.5\n",
      "Computed value of sigmoid(0) is 0.5\n"
     ]
    }
   ],
   "source": [
    "# test sigmoid function\n",
    "z = 0\n",
    "g = sigmoid(z)\n",
    "\n",
    "print(\"Actual value of sigmoid(0) should be 0.5\")\n",
    "print(\"Computed value of sigmoid(0) is {sigmoid}\".format(sigmoid= g))"
   ]
  },
  {
   "cell_type": "markdown",
   "metadata": {
    "id": "XE_NEv3lYNDE"
   },
   "source": [
    "#### 1.2.2 Cost function and gradient\n",
    "\n",
    "Now you will implement the cost function and gradient for logistic regression. Before proceeding we add the intercept term to X.\n"
   ]
  },
  {
   "cell_type": "code",
   "execution_count": 20,
   "metadata": {
    "executionInfo": {
     "elapsed": 2,
     "status": "ok",
     "timestamp": 1719247961360,
     "user": {
      "displayName": "adam celer",
      "userId": "12186521033448694813"
     },
     "user_tz": -180
    },
    "id": "72Nbj6cGYNDG"
   },
   "outputs": [],
   "source": [
    "# add intercept term to martix X\n",
    "X = np.concatenate([np.ones((len(X), 1)), X], axis= 1)\n",
    "### make  theta_0 as the bias term"
   ]
  },
  {
   "cell_type": "markdown",
   "metadata": {
    "id": "12dm8zC2YNDH"
   },
   "source": [
    "Note that the parameter $\\theta_0$ represents the bias term in the model's weights.\n",
    "Now, complete the code for the function `cost_function` to return the cost value and define `gradient_descent` to reteun gradient. Recall that the cost function in logistic regression is\n",
    "\n",
    "$$ J(\\theta) = \\frac{1}{m} \\sum_{i=1}^{m} \\left[ -y^{(i)} \\log\\left(h_\\theta\\left( x^{(i)} \\right) \\right) - \\left( 1 - y^{(i)}\\right) \\log \\left( 1 - h_\\theta\\left( x^{(i)} \\right) \\right) \\right]$$\n",
    "\n",
    "and the gradient of the cost is a vector of the same length as $\\theta$ where the $j^{th}$\n",
    "element (for $j = 0, 1, \\cdots , n$) is defined as follows:\n",
    "\n",
    "$$ \\frac{\\partial J(\\theta)}{\\partial \\theta_j} = \\frac{1}{m} \\sum_{i=1}^m \\left( h_\\theta \\left( x^{(i)} \\right) - y^{(i)} \\right) x_j^{(i)} $$\n",
    "\n",
    "Note that while this gradient looks identical to the linear regression gradient, the formula is actually different because linear and logistic regression have different definitions of $h_\\theta(x)$."
   ]
  },
  {
   "cell_type": "code",
   "execution_count": 21,
   "metadata": {
    "executionInfo": {
     "elapsed": 1,
     "status": "ok",
     "timestamp": 1719247963197,
     "user": {
      "displayName": "adam celer",
      "userId": "12186521033448694813"
     },
     "user_tz": -180
    },
    "id": "MbLJncvRYNDI"
   },
   "outputs": [],
   "source": [
    "\n",
    "def cost_function(theta, X, y):\n",
    "    \"\"\"\n",
    "    Compute cost_function for logistic regression.\n",
    "\n",
    "    Parameters\n",
    "    ----------\n",
    "    theta : array_like\n",
    "        The parameters for logistic regression. This a vector\n",
    "        of shape (n+1, ).\n",
    "\n",
    "    X : array_like\n",
    "        The input dataset of shape (m x n+1) where m is the total number\n",
    "        of data points and n is the number of features. We assume the\n",
    "        intercept has already been added to the input.\n",
    "\n",
    "    y : array_like\n",
    "        Labels for the input. This is a vector of shape (m,).\n",
    "\n",
    "    Returns\n",
    "    -------\n",
    "    J : float\n",
    "        The computed value for the cost function.\n",
    "    \"\"\"\n",
    "    # in logistic regression we evaluate our answer with the sigmoid\n",
    "    predicted_y = np.clip(sigmoid(np.dot(X, theta)), 1e-15, 1 - 1e-15)\n",
    "    m = len(predicted_y)  # Number of training examples\n",
    "    J = -(1/m) * (np.dot(y, np.log(predicted_y)) + np.dot((1 - y), np.log(1 - predicted_y)))\n",
    "    return J"
   ]
  },
  {
   "cell_type": "code",
   "execution_count": 22,
   "metadata": {
    "executionInfo": {
     "elapsed": 1,
     "status": "ok",
     "timestamp": 1719247964682,
     "user": {
      "displayName": "adam celer",
      "userId": "12186521033448694813"
     },
     "user_tz": -180
    },
    "id": "mnbXuL_dYNDJ"
   },
   "outputs": [],
   "source": [
    "def gradient_descent(theta, X, y):\n",
    "    \"\"\"\n",
    "    Compute gradient_descent for logistic regression.\n",
    "\n",
    "    Parameters\n",
    "    ----------\n",
    "    theta : array_like\n",
    "        The parameters for logistic regression. This a vector\n",
    "        of shape (n+1, ).\n",
    "\n",
    "    X : array_like\n",
    "        The input dataset of shape (m x n+1) where m is the total number\n",
    "        of data points and n is the number of features. We assume the\n",
    "        intercept has already been added to the input.\n",
    "\n",
    "    y : arra_like\n",
    "        Labels for the input. This is a vector of shape (m, ).\n",
    "\n",
    "    Returns\n",
    "    -------\n",
    "    grad : array_like\n",
    "        A vector of shape (n+1, ) which is the gradient of the cost\n",
    "        function with respect to theta, at the current values of theta.\n",
    "    \"\"\"\n",
    "    m = len(y)  # Number of training examples\n",
    "    predicted_y = sigmoid(np.dot(X,theta))\n",
    "    errors=predicted_y-y\n",
    "    grad=1/m * np.dot(X.T,errors)\n",
    "\n",
    "    return grad"
   ]
  },
  {
   "cell_type": "code",
   "execution_count": 23,
   "metadata": {
    "executionInfo": {
     "elapsed": 2,
     "status": "ok",
     "timestamp": 1719247966013,
     "user": {
      "displayName": "adam celer",
      "userId": "12186521033448694813"
     },
     "user_tz": -180
    },
    "id": "2_13jB6zaEjO"
   },
   "outputs": [],
   "source": [
    "### check the gradient and with theta=np.zeros(n+1)"
   ]
  },
  {
   "cell_type": "code",
   "execution_count": 24,
   "metadata": {
    "colab": {
     "base_uri": "https://localhost:8080/"
    },
    "executionInfo": {
     "elapsed": 2,
     "status": "ok",
     "timestamp": 1719247966320,
     "user": {
      "displayName": "adam celer",
      "userId": "12186521033448694813"
     },
     "user_tz": -180
    },
    "id": "TkoCN__pYNDK",
    "outputId": "9ab15864-0df2-4c61-ba77-f0c46bce9039"
   },
   "outputs": [
    {
     "name": "stdout",
     "output_type": "stream",
     "text": [
      "Shape of cost value is: 0.6931471805599453\n",
      "Shape of grad is: (3,)\n"
     ]
    }
   ],
   "source": [
    "initial_theta = np.zeros(n+1)\n",
    "grad = gradient_descent(initial_theta, X, y)\n",
    "cost = cost_function(initial_theta,X,y)\n",
    "# print(cost)\n",
    "# print(grad)\n",
    "# print(cost_function(initial_theta-0.0001*grad,X,y))\n",
    "print(\"Shape of cost value is: {}\".format(cost))\n",
    "print(\"Shape of grad is: {}\".format(grad.shape))\n"
   ]
  },
  {
   "cell_type": "markdown",
   "metadata": {
    "id": "ytZavnq1djZ8"
   },
   "source": [
    "### calculate the optimal theta using stochastic gradient deacent\n",
    "\n",
    "\n"
   ]
  },
  {
   "cell_type": "code",
   "execution_count": 31,
   "metadata": {
    "colab": {
     "base_uri": "https://localhost:8080/"
    },
    "executionInfo": {
     "elapsed": 85592,
     "status": "ok",
     "timestamp": 1719248233959,
     "user": {
      "displayName": "adam celer",
      "userId": "12186521033448694813"
     },
     "user_tz": -180
    },
    "id": "IZCX99tbdsyB",
    "outputId": "828f610d-d734-462e-9c79-dd92a8d18c56"
   },
   "outputs": [
    {
     "name": "stdout",
     "output_type": "stream",
     "text": [
      "Epoch 0 | Cost: 0.6322825484771931\n",
      "Epoch 1000 | Cost: 0.6420975382717626\n",
      "Epoch 2000 | Cost: 0.548132987455391\n",
      "Epoch 3000 | Cost: 0.5140408295926767\n",
      "Epoch 4000 | Cost: 0.48695407211756375\n",
      "Epoch 5000 | Cost: 0.4732197118992668\n",
      "Epoch 6000 | Cost: 0.5285823789609181\n",
      "Epoch 7000 | Cost: 0.4347567694855637\n",
      "Epoch 8000 | Cost: 0.4247791913507416\n",
      "Epoch 9000 | Cost: 0.39682980207649354\n",
      "Epoch 10000 | Cost: 0.39338116132199935\n",
      "Epoch 11000 | Cost: 0.4910022600846587\n",
      "Epoch 12000 | Cost: 0.36368677618058615\n",
      "Epoch 13000 | Cost: 0.4100842524010961\n",
      "Epoch 14000 | Cost: 0.34744399418615174\n",
      "Epoch 15000 | Cost: 0.3410895230202308\n",
      "Epoch 16000 | Cost: 0.39091277718825546\n",
      "Epoch 17000 | Cost: 0.33160044583130105\n",
      "Epoch 18000 | Cost: 0.36570699172061416\n",
      "Epoch 19000 | Cost: 0.3236775259637683\n",
      "Epoch 20000 | Cost: 0.31325986087793967\n",
      "Epoch 21000 | Cost: 0.31300869926522706\n",
      "Epoch 22000 | Cost: 0.30514224675965734\n",
      "Epoch 23000 | Cost: 0.3183816389423289\n",
      "Epoch 24000 | Cost: 0.2979902632392414\n"
     ]
    }
   ],
   "source": [
    "def train_using_sgd(theta, X, y, learning_rate=0.0001, epochs=25000):\n",
    "    \"\"\"\n",
    "    Perform stochastic gradient descent to train the logistic regression model.\n",
    "    \"\"\"\n",
    "    m = len(y)\n",
    "    for epoch in range(epochs):\n",
    "        for i in range(m):\n",
    "            # Randomly select one sample\n",
    "            random_index = np.random.randint(m)\n",
    "            X_i = X[random_index:random_index+1]\n",
    "            y_i = y[random_index:random_index+1]\n",
    "\n",
    "            # Compute the gradient for this sample\n",
    "            grad = gradient_descent(theta, X_i, y_i)\n",
    "\n",
    "            # Update the parameters\n",
    "            theta = theta - learning_rate * grad\n",
    "\n",
    "        # Optionally print the cost every few epochs\n",
    "        if epoch % 1000 == 0:\n",
    "            cost = cost_function(theta, X, y)\n",
    "            print(f\"Epoch {epoch} | Cost: {cost}\")\n",
    "\n",
    "    return theta\n",
    "\n",
    "# Example usage:\n",
    "# Assuming you have X, y, and theta initialized appropriately\n",
    "# Train the logistic regression model using stochastic gradient descent\n",
    "theta =np.zeros(3)\n",
    "theta_optimized = train_using_sgd(theta, X, y)\n",
    "# print(sigmoid(np.dot(X,theta_optimized)))\n"
   ]
  },
  {
   "cell_type": "code",
   "execution_count": 32,
   "metadata": {
    "colab": {
     "base_uri": "https://localhost:8080/"
    },
    "executionInfo": {
     "elapsed": 309,
     "status": "ok",
     "timestamp": 1719248237023,
     "user": {
      "displayName": "adam celer",
      "userId": "12186521033448694813"
     },
     "user_tz": -180
    },
    "id": "UfHQSp-7YNDQ",
    "outputId": "d17f3f83-a895-4f07-e487-39afdeaf1651"
   },
   "outputs": [
    {
     "name": "stdout",
     "output_type": "stream",
     "text": [
      "Optimized theta is: [-8.65822945  0.07853072  0.06606891]\n",
      "Optimized Cost value is: 0.2944\n"
     ]
    }
   ],
   "source": [
    "print(\"Optimized theta is: {}\".format(theta_optimized))\n",
    "optimaize_cost = cost_function(theta_optimized,X,y)\n",
    "\n",
    "print(\"Optimized Cost value is: {:.4f}\".format(optimaize_cost))"
   ]
  },
  {
   "cell_type": "markdown",
   "metadata": {
    "id": "Sa89Zyq_bNSV"
   },
   "source": [
    "### Plot the decision boundary obtained from the logistic regression model trained using gradient descent\n",
    "\n",
    "---\n",
    "\n"
   ]
  },
  {
   "cell_type": "code",
   "execution_count": 33,
   "metadata": {
    "colab": {
     "base_uri": "https://localhost:8080/",
     "height": 473
    },
    "executionInfo": {
     "elapsed": 1129,
     "status": "ok",
     "timestamp": 1719248240086,
     "user": {
      "displayName": "adam celer",
      "userId": "12186521033448694813"
     },
     "user_tz": -180
    },
    "id": "X7nZhBPQt0_l",
    "outputId": "1169fc56-690a-4e92-f790-8743f1082b4a"
   },
   "outputs": [
    {
     "name": "stdout",
     "output_type": "stream",
     "text": [
      "[95.32000169 12.39124802]\n"
     ]
    },
    {
     "data": {
      "image/png": "[encoded data removed]",
      "text/plain": [
       "<Figure size 640x480 with 1 Axes>"
      ]
     },
     "metadata": {},
     "output_type": "display_data"
    }
   ],
   "source": [
    "plt.figure()\n",
    "\n",
    "# Plot data points\n",
    "plt.scatter(X[y == 0][:, 1], X[y == 0][:, 2], c='red', label='Class 0')\n",
    "plt.scatter(X[y == 1][:, 1], X[y == 1][:, 2], c='blue', label='Class 1')\n",
    "\n",
    "# Plot decision boundary\n",
    "x_values = [np.min(X[:, 1]), np.max(X[:, 1])]\n",
    "y_values = - (theta_optimized[0] + np.dot(theta_optimized[1], x_values)) / theta_optimized[2]\n",
    "\n",
    "print(y_values)\n",
    "plt.plot(x_values, y_values, label='Decision Boundary')\n",
    "\n",
    "plt.xlabel('Feature 1')\n",
    "plt.ylabel('Feature 2')\n",
    "plt.xlim(20, 100)\n",
    "plt.ylim(20, 100)\n",
    "plt.legend()\n",
    "plt.show()"
   ]
  },
  {
   "cell_type": "markdown",
   "metadata": {
    "id": "9LIZZSW8YNDS"
   },
   "source": [
    "#### 1.2.4 Evaluating logistic regression\n",
    "\n",
    "After learning the parameters, you can use the model to predict whether a particular student will be admitted. For a student with an Exam 1 score of 53 and an Exam 2 score of 94, print the admission\n",
    "probability."
   ]
  },
  {
   "cell_type": "code",
   "execution_count": 34,
   "metadata": {
    "executionInfo": {
     "elapsed": 351,
     "status": "ok",
     "timestamp": 1719248245898,
     "user": {
      "displayName": "adam celer",
      "userId": "12186521033448694813"
     },
     "user_tz": -180
    },
    "id": "bwlWbiQaYNDT"
   },
   "outputs": [],
   "source": [
    "def predict(theta, X):\n",
    "    \"\"\"\n",
    "    Predict whether the label is 0 or 1 using learned logistic regression.\n",
    "    Computes the predictions for X using a threshold at 0.5\n",
    "    (i.e., if sigmoid(theta.T*x) >= 0.5, predict 1)\n",
    "\n",
    "    Parameters\n",
    "    ----------\n",
    "    theta : array_like\n",
    "        Parameters for logistic regression. A vecotor of shape (n+1, ).\n",
    "\n",
    "    X : array_like\n",
    "        The data to use for computing predictions. The rows is the number\n",
    "        of points to compute predictions, and columns is the number of\n",
    "        features.\n",
    "\n",
    "    Returns\n",
    "    -------\n",
    "    p : array_like\n",
    "        Predictions and 0 or 1 for each row in X.\n",
    "    \"\"\"\n",
    "    return np.where(sigmoid(np.dot(X,theta))>0.5,1,0)"
   ]
  },
  {
   "cell_type": "code",
   "execution_count": 35,
   "metadata": {
    "executionInfo": {
     "elapsed": 1,
     "status": "ok",
     "timestamp": 1719248247559,
     "user": {
      "displayName": "adam celer",
      "userId": "12186521033448694813"
     },
     "user_tz": -180
    },
    "id": "aJ5XmIlQYNDU"
   },
   "outputs": [],
   "source": [
    "def accuracy(y_pred, y):\n",
    "    \"\"\"\n",
    "    check prediction accuracy with comparison between predict and actual value\n",
    "    if two parameter(predicted and actual value) are equal diff will be 0 and\n",
    "    otherwise will be 1. count of nonzero devided by len of diff is errors. 1 minus\n",
    "    error is our prediction accuracy\n",
    "\n",
    "    Parameters\n",
    "    ----------\n",
    "    y_pred : array_like\n",
    "        Predicted values that output of predict function.\n",
    "\n",
    "    y : array_like\n",
    "        Actual value of data, (Labels)\n",
    "\n",
    "    Returns\n",
    "    -------\n",
    "    number : float\n",
    "        model accuracy percentage\n",
    "    \"\"\"\n",
    "    diff = y_pred - y\n",
    "\n",
    "    # Calculate the number of nonzero differences (errors)\n",
    "    errors = np.count_nonzero(diff)\n",
    "\n",
    "    # Calculate the error rate\n",
    "    error_rate = errors / len(y)\n",
    "\n",
    "    # Calculate accuracy\n",
    "    accuracy = 1 - error_rate\n",
    "\n",
    "    return accuracy"
   ]
  },
  {
   "cell_type": "markdown",
   "metadata": {
    "id": "TzT1r9bRYNDV"
   },
   "source": [
    "After you have completed the code in `predict`, we proceed to report the training accuracy of your classifier by computing the percentage of examples it got correct."
   ]
  },
  {
   "cell_type": "code",
   "execution_count": 36,
   "metadata": {
    "colab": {
     "base_uri": "https://localhost:8080/"
    },
    "executionInfo": {
     "elapsed": 275,
     "status": "ok",
     "timestamp": 1719248249722,
     "user": {
      "displayName": "adam celer",
      "userId": "12186521033448694813"
     },
     "user_tz": -180
    },
    "id": "PKCiA5NBYNDV",
    "outputId": "710f6cce-e718-47be-fc9d-6bb886d7e984"
   },
   "outputs": [
    {
     "name": "stdout",
     "output_type": "stream",
     "text": [
      "1\n",
      "model accuracy: 0.92\n"
     ]
    }
   ],
   "source": [
    "\n",
    "\n",
    "# Predict probability for a student with score 45 on exam 1\n",
    "# and score 85 on exam 2\n",
    "print(predict(theta_optimized,[1,79.03273605 ,75.34437644]))\n",
    "print(\"model accuracy:\",accuracy(predict(theta_optimized,X),y))"
   ]
  },
  {
   "cell_type": "markdown",
   "metadata": {
    "id": "DKXrf4DskIr7"
   },
   "source": [
    "plot the AUC and the ROC curve on your model"
   ]
  },
  {
   "cell_type": "code",
   "execution_count": 37,
   "metadata": {
    "colab": {
     "base_uri": "https://localhost:8080/",
     "height": 472
    },
    "executionInfo": {
     "elapsed": 1429,
     "status": "ok",
     "timestamp": 1719248253947,
     "user": {
      "displayName": "adam celer",
      "userId": "12186521033448694813"
     },
     "user_tz": -180
    },
    "id": "iHt9sEX8IfdF",
    "outputId": "6f26c128-d165-43c5-ea91-0a6da2e21d5d"
   },
   "outputs": [
    {
     "data": {
      "image/png": "[encoded data removed]",
      "text/plain": [
       "<Figure size 640x480 with 1 Axes>"
      ]
     },
     "metadata": {},
     "output_type": "display_data"
    }
   ],
   "source": [
    "from sklearn.metrics import roc_curve, auc\n",
    "# Calculate ROC curve\n",
    "fpr, tpr, thresholds = roc_curve(y,sigmoid(np.dot(X,theta_optimized)))\n",
    "# Calculate AUC\n",
    "roc_auc = auc(fpr, tpr)\n",
    "plt.figure()\n",
    "plt.plot(fpr, tpr, color='darkorange', lw=2, label='ROC curve (area = %0.2f)' % roc_auc)\n",
    "plt.plot([0, 1], [0, 1], color='navy', lw=2, linestyle='--')\n",
    "plt.xlim([0.0, 1.0])\n",
    "plt.ylim([0.0, 1.05])\n",
    "plt.xlabel('False Positive Rate')\n",
    "plt.ylabel('True Positive Rate')\n",
    "plt.title('Receiver Operating Characteristic')\n",
    "plt.legend(loc=\"lower right\")\n",
    "plt.show()"
   ]
  },
  {
   "cell_type": "markdown",
   "metadata": {
    "id": "WxyZkBEeYNDW"
   },
   "source": [
    "\n",
    "\n",
    "```\n",
    "# This is formatted as code\n",
    "```\n",
    "\n",
    "## Section 2 Regularized logistic regression\n",
    "\n",
    "In this part of the exercise, you will implement regularized logistic regression to predict whether microchips from a fabrication plant passes quality assurance (QA). During QA, each microchip goes through various tests to ensure it is functioning correctly.\n",
    "Suppose you are the product manager of the factory and you have the test results for some microchips on two different tests. From these two tests, you would like to determine whether the microchips should be accepted or rejected. To help you make the decision, you have a dataset of test results on past microchips, from which you can build a logistic regression model.\n",
    "\n",
    "First, we load the data from a CSV file:"
   ]
  },
  {
   "cell_type": "code",
   "execution_count": 38,
   "metadata": {
    "colab": {
     "base_uri": "https://localhost:8080/"
    },
    "executionInfo": {
     "elapsed": 313,
     "status": "ok",
     "timestamp": 1719248259951,
     "user": {
      "displayName": "adam celer",
      "userId": "12186521033448694813"
     },
     "user_tz": -180
    },
    "id": "hF8nHcddYNDX",
    "outputId": "989162da-dfaa-47f5-a32a-ef942819d9a7"
   },
   "outputs": [
    {
     "name": "stdout",
     "output_type": "stream",
     "text": [
      "size of samples: 118\n"
     ]
    }
   ],
   "source": [
    "microchips= pd.read_csv(\"ex2data2.txt\", names=[\"First_Test\", \"Second_Test\", \"Status\"])\n",
    "# type casting from pandas series and pandas dataframe to numpy array\n",
    "X = np.array(microchips[[\"First_Test\", \"Second_Test\"]])\n",
    "y = np.array(microchips[\"Status\"])\n",
    "# size of dataset\n",
    "number_of_samples = y.size\n",
    "# size of X matrix, m= rows, n= features\n",
    "m,n = X.shape\n",
    "print('size of samples: {}'.format(number_of_samples))\n"
   ]
  },
  {
   "cell_type": "markdown",
   "metadata": {
    "id": "VEFb4xoBYNDY"
   },
   "source": [
    "### 2.1 Visualize the data\n",
    "\n",
    "Similar to the previous parts of this exercise, where the axes are the two test scores, and the positive (y = 1, accepted) and negative (y = 0, rejected) examples are shown with\n",
    "different markers."
   ]
  },
  {
   "cell_type": "code",
   "execution_count": 39,
   "metadata": {
    "colab": {
     "base_uri": "https://localhost:8080/",
     "height": 449
    },
    "executionInfo": {
     "elapsed": 515,
     "status": "ok",
     "timestamp": 1719248264094,
     "user": {
      "displayName": "adam celer",
      "userId": "12186521033448694813"
     },
     "user_tz": -180
    },
    "id": "Fobsnaq-YNDZ",
    "outputId": "dd83ea87-f034-40bf-c7ee-6716a99a86de"
   },
   "outputs": [
    {
     "data": {
      "image/png": "[encoded data removed]",
      "text/plain": [
       "<Figure size 640x480 with 1 Axes>"
      ]
     },
     "metadata": {},
     "output_type": "display_data"
    }
   ],
   "source": [
    "\n",
    "plt.figure()\n",
    "plt.scatter(X[:, 0], X[:, 1], c=y, cmap='viridis', marker='o')\n",
    "\n",
    "# Setting labels\n",
    "plt.xlabel('First Exam Score')\n",
    "plt.ylabel('Second Exam Score')\n",
    "\n",
    "# Show plot\n",
    "plt.show()"
   ]
  },
  {
   "cell_type": "markdown",
   "metadata": {
    "id": "lZTMweFEYNDa"
   },
   "source": [
    "The above figure shows that our dataset cannot be separated into positive and negative examples by a straight-line through the plot. Therefore, a straight-forward application of logistic regression will not perform well on this dataset since logistic regression will only be able to find a linear decision boundary.\n",
    "\n",
    "### 2.2 Feature mapping\n",
    "\n",
    "One way to fit the data better is to create more features from each data point. In the function `map_feature`, we will map the features into all polynomial terms of $x_1$ and $x_2$ up to the sixth power.\n",
    "\n",
    "$$ \\text{map_feature}(x) = \\begin{bmatrix} 1 & x_1 & x_2 & x_1^2 & x_1 x_2 & x_2^2 & x_1^3 & \\dots & x_1 x_2^5 & x_2^6 \\end{bmatrix}^T $$\n",
    "\n",
    "As a result of this mapping, our vector of two features (the scores on two QA tests) has been transformed into a 28-dimensional vector. A logistic regression classifier trained on this higher-dimension feature vector will have a more complex decision boundary and will appear nonlinear when drawn in our 2-dimensional plot.\n",
    "While the feature mapping allows us to build a more expressive classifier, it also more susceptible to overfitting. In the next parts of the exercise, you will implement regularized logistic regression to fit the data and also see for yourself how regularization can help combat the overfitting problem.\n"
   ]
  },
  {
   "cell_type": "code",
   "execution_count": null,
   "metadata": {
    "id": "cQwU_upAYNDa"
   },
   "outputs": [],
   "source": [
    "### make the map feature function"
   ]
  },
  {
   "cell_type": "code",
   "execution_count": 40,
   "metadata": {
    "executionInfo": {
     "elapsed": 295,
     "status": "ok",
     "timestamp": 1719248267459,
     "user": {
      "displayName": "adam celer",
      "userId": "12186521033448694813"
     },
     "user_tz": -180
    },
    "id": "JC9PG14jYNDb"
   },
   "outputs": [],
   "source": [
    "def map_feature(X1, X2, degree=6):\n",
    "    \"\"\"\n",
    "    Maps the two input features to quadratic features used in the regularization exercise.\n",
    "\n",
    "    Returns a new feature array with more features, comprising of\n",
    "    X1, X2, X1.^2, X2.^2, X1*X2, X1*X2.^2, etc..\n",
    "\n",
    "    Parameters\n",
    "    ----------\n",
    "    X1 : array_like\n",
    "        A vector of shape (m, 1), containing one feature for all examples.\n",
    "\n",
    "    X2 : array_like\n",
    "        A vector of shape (m, 1), containing a second feature for all examples.\n",
    "        Inputs X1, X2 must be the same size.\n",
    "\n",
    "    degree: int, optional\n",
    "        The polynomial degree.\n",
    "\n",
    "    Returns\n",
    "    -------\n",
    "    : array_like\n",
    "        A matrix of of m rows, and columns depend on the degree of polynomial.\n",
    "    \"\"\"\n",
    "    # intercept term\n",
    "    arrput=np.ones((X1.shape[0], 1))\n",
    "    for i in range(1, degree + 1):\n",
    "        for j in range(i + 1):\n",
    "            term = (X1 ** (i - j)) * (X2 ** j)\n",
    "            arrput = np.column_stack((arrput,term))\n",
    "    return arrput\n"
   ]
  },
  {
   "cell_type": "code",
   "execution_count": 41,
   "metadata": {
    "executionInfo": {
     "elapsed": 410,
     "status": "ok",
     "timestamp": 1719248269677,
     "user": {
      "displayName": "adam celer",
      "userId": "12186521033448694813"
     },
     "user_tz": -180
    },
    "id": "Q5qAv3_WYNDb"
   },
   "outputs": [],
   "source": [
    "X = map_feature(X[:,0], X[:,1])\n"
   ]
  },
  {
   "cell_type": "markdown",
   "metadata": {
    "id": "pD0w2XM0YNDf"
   },
   "source": [
    "### 2.3 Cost function and gradient\n",
    "Note that the parameter $\\theta_0$ represents the bias term in the model's weights.\n",
    "Now you will implement code to compute the cost function and gradient for regularized logistic regression. Complete the code for the function `cost_function_gradient_descent_regularized` below to return the cost and gradient.\n",
    "\n",
    "Recall that the regularized cost function in logistic regression is\n",
    "\n",
    "$$ J(\\theta) = \\frac{1}{m} \\sum_{i=1}^m \\left[ -y^{(i)}\\log \\left( h_\\theta \\left(x^{(i)} \\right) \\right) - \\left( 1 - y^{(i)} \\right) \\log \\left( 1 - h_\\theta \\left( x^{(i)} \\right) \\right) \\right] + \\frac{\\lambda}{2m} \\sum_{j=1}^n \\theta_j^2 $$\n",
    "\n",
    "Note that you should not regularize the parameters $\\theta_0$. The gradient of the cost function is a vector where the $j^{th}$ element is defined as follows:\n",
    "\n",
    "$$ \\frac{\\partial J(\\theta)}{\\partial \\theta_0} = \\frac{1}{m} \\sum_{i=1}^m \\left( h_\\theta \\left(x^{(i)}\\right) - y^{(i)} \\right) x_j^{(i)} \\qquad \\text{for } j =0 $$\n",
    "\n",
    "$$ \\frac{\\partial J(\\theta)}{\\partial \\theta_j} = \\left( \\frac{1}{m} \\sum_{i=1}^m \\left( h_\\theta \\left(x^{(i)}\\right) - y^{(i)} \\right) x_j^{(i)} \\right) + \\frac{\\lambda}{m}\\theta_j \\qquad \\text{for } j \\ge 1 $$"
   ]
  },
  {
   "cell_type": "code",
   "execution_count": 42,
   "metadata": {
    "executionInfo": {
     "elapsed": 295,
     "status": "ok",
     "timestamp": 1719248272348,
     "user": {
      "displayName": "adam celer",
      "userId": "12186521033448694813"
     },
     "user_tz": -180
    },
    "id": "-eHcBN20YNDg"
   },
   "outputs": [],
   "source": [
    "def cost_function_gradient_descent_regularized(theta, X, y, lambda_):\n",
    "    \"\"\"\n",
    "    Compute cost and gradient  for logistic regression with regularization.\n",
    "\n",
    "    Parameters\n",
    "    ----------\n",
    "    theta : array_like\n",
    "        Logistic regression parameters. A vector with shape (n, ). n is\n",
    "        the number of features including any intercept. If we have mapped\n",
    "        our initial features into polynomial features, then n is the total\n",
    "        number of polynomial features.\n",
    "\n",
    "    X : array_like\n",
    "        The data set with shape (m x n). m is the number of examples, and\n",
    "        n is the number of features (after feature mapping).\n",
    "\n",
    "    y : array_like\n",
    "        The data labels. A vector with shape (m, ).\n",
    "\n",
    "    lambda_ : float\n",
    "        The regularization parameter.\n",
    "\n",
    "    Returns\n",
    "    -------\n",
    "    J : float\n",
    "        The computed value for the regularized cost function.\n",
    "\n",
    "    grad : array_like\n",
    "        A vector of shape (n, ) which is the gradient of the cost\n",
    "        function with respect to theta, at the current values of theta.\n",
    "    \"\"\"\n",
    "    # Initialize some useful values\n",
    "    m = y.size  # number of training examples\n",
    "\n",
    "    # You need to return the following variables correctly\n",
    "    J=cost_function(theta,X,y) + (np.dot(theta[1:],theta.T[1:])*(lambda_)/2*m)\n",
    "    grad=gradient_descent(theta,X,y)\n",
    "    grad[1:] = grad[1:] + (lambda_/m) * theta[1:]  # Regularization term applied to theta except the intercept\n",
    "\n",
    "    # =============================================================\n",
    "    return J, grad"
   ]
  },
  {
   "cell_type": "markdown",
   "metadata": {
    "id": "FXw3P0o2YNDj"
   },
   "source": [
    "#### 2.3.1 Learning parameters using momentum\n",
    "\n",
    "Similar to the previous parts, you will optimize the Regularized logistic regression using the momentum algorithm optimize the model with $\\lambda = 1$, $\\lambda = 0$"
   ]
  },
  {
   "cell_type": "code",
   "execution_count": 79,
   "metadata": {
    "executionInfo": {
     "elapsed": 318,
     "status": "ok",
     "timestamp": 1719251546066,
     "user": {
      "displayName": "adam celer",
      "userId": "12186521033448694813"
     },
     "user_tz": -180
    },
    "id": "kp8TarLvYNDk"
   },
   "outputs": [],
   "source": [
    "def train_using_momentum(theta, X, y, learning_rate=0.001, beta=0.01, lmbda=0, epochs=5000):\n",
    "    m = len(y)\n",
    "    learnC = np.zeros_like(theta)  # Initialize the velocity vector\n",
    "\n",
    "    for epoch in range(epochs):\n",
    "        # Compute the gradient for the entire dataset\n",
    "        _, grad = cost_function_gradient_descent_regularized(theta, X, y, lmbda)\n",
    "        learnC = beta * learnC - learning_rate * grad\n",
    "        # Update the parameters\n",
    "        theta = theta + learnC\n",
    "\n",
    "        # Optionally print the cost every few epochs\n",
    "        if epoch % 50000 == 0:\n",
    "            cost = cost_function(theta, X, y)\n",
    "            print(f\"Epoch {epoch} | Cost: {cost}\")\n",
    "\n",
    "    return theta"
   ]
  },
  {
   "cell_type": "code",
   "execution_count": 81,
   "metadata": {
    "colab": {
     "base_uri": "https://localhost:8080/"
    },
    "executionInfo": {
     "elapsed": 20828,
     "status": "ok",
     "timestamp": 1719251593469,
     "user": {
      "displayName": "adam celer",
      "userId": "12186521033448694813"
     },
     "user_tz": -180
    },
    "id": "WX-LA3AfYNDm",
    "outputId": "4a4a6227-5bcf-4ee9-f9a8-a5f6f635c309"
   },
   "outputs": [
    {
     "name": "stdout",
     "output_type": "stream",
     "text": [
      "Epoch 0 | Cost: 0.6931343807989313\n",
      "Epoch 50000 | Cost: 0.5303255669270521\n",
      "Epoch 100000 | Cost: 0.4911243504192167\n",
      "Epoch 150000 | Cost: 0.47577350008090497\n",
      "Train Accuracy: 83.1\n",
      "Expected accuracy (with lambda = 1): 83.1 % (approx)\n",
      "\n"
     ]
    }
   ],
   "source": [
    "# Compute accuracy on our training set\n",
    "theta = np.zeros(X.shape[1])\n",
    "theta_optimized = train_using_momentum(theta, X, y,0.001,0.01,1,200000)\n",
    "model_predicted = predict(theta_optimized, X)\n",
    "\n",
    "print(\"Train Accuracy: {:.1f}\".format((np.mean(model_predicted == y) * 100)))\n",
    "print(\"Expected accuracy (with lambda = 1): 83.1 % (approx)\\n\")"
   ]
  },
  {
   "cell_type": "markdown",
   "metadata": {
    "id": "A65wS7-TNm8w"
   },
   "source": []
  },
  {
   "cell_type": "code",
   "execution_count": 82,
   "metadata": {
    "executionInfo": {
     "elapsed": 288,
     "status": "ok",
     "timestamp": 1719251597476,
     "user": {
      "displayName": "adam celer",
      "userId": "12186521033448694813"
     },
     "user_tz": -180
    },
    "id": "7QX-5uUSnjZu"
   },
   "outputs": [],
   "source": [
    "def plot_decision_boundary(theta, X, y, lmbda):\n",
    "\n",
    "    # Define the grid range\n",
    "    x_min, x_max = X[:, 1].min() - 1, X[:, 1].max() + 1\n",
    "    y_min, y_max = X[:, 2].min() - 1, X[:, 2].max() + 1\n",
    "    xx, yy = np.meshgrid(np.linspace(x_min, x_max, 500), np.linspace(y_min, y_max, 500))\n",
    "\n",
    "    grid = map_feature(xx.ravel(), yy.ravel(), degree=6)\n",
    "    # Predict the probability for each point in the grid\n",
    "    Z = sigmoid(np.dot(grid, theta))\n",
    "    Z = Z.reshape(xx.shape)\n",
    "    # Plot the data points\n",
    "    plt.figure(figsize=(10, 6))\n",
    "    plt.scatter(X[y == 1][:, 1], X[y == 1][:, 2], c='b', marker='o', label='Positive')\n",
    "    plt.scatter(X[y == 0][:, 1], X[y == 0][:, 2], c='r', marker='x', label='Negative')\n",
    "\n",
    "    # Plot the decision boundary\n",
    "    plt.contour(xx, yy, Z, levels=[0.5], colors='g')\n",
    "    # Labels and legend\n",
    "    plt.xlabel('Feature 1')\n",
    "    plt.ylabel('Feature 2')\n",
    "    plt.title(f'Decision Boundary (lambda = {lmbda})')\n",
    "    plt.legend()\n",
    "    plt.show()"
   ]
  },
  {
   "cell_type": "markdown",
   "metadata": {
    "id": "ez6-vws5njuV"
   },
   "source": [
    "### plot the decision boundery for $\\lambda =1$\n",
    "\n",
    "\n"
   ]
  },
  {
   "cell_type": "code",
   "execution_count": 83,
   "metadata": {
    "colab": {
     "base_uri": "https://localhost:8080/",
     "height": 564
    },
    "executionInfo": {
     "elapsed": 1485,
     "status": "ok",
     "timestamp": 1719251601035,
     "user": {
      "displayName": "adam celer",
      "userId": "12186521033448694813"
     },
     "user_tz": -180
    },
    "id": "fLCxtoSuYNDn",
    "outputId": "e0808d08-7e81-43be-81ee-d07b8bd6469a"
   },
   "outputs": [
    {
     "data": {
      "image/png": "[encoded data removed]",
      "text/plain": [
       "<Figure size 1000x600 with 1 Axes>"
      ]
     },
     "metadata": {},
     "output_type": "display_data"
    }
   ],
   "source": [
    "pos = y == 1\n",
    "neg = y == 0\n",
    "plot_decision_boundary(theta_optimized,X,y,1)"
   ]
  },
  {
   "cell_type": "markdown",
   "metadata": {
    "id": "y7Hwiwl1n0gw"
   },
   "source": [
    "### plot the decision boundery for $\\lambda=0$\n",
    "\n",
    "\n"
   ]
  },
  {
   "cell_type": "code",
   "execution_count": 87,
   "metadata": {
    "colab": {
     "base_uri": "https://localhost:8080/",
     "height": 600
    },
    "executionInfo": {
     "elapsed": 11553,
     "status": "ok",
     "timestamp": 1719251671073,
     "user": {
      "displayName": "adam celer",
      "userId": "12186521033448694813"
     },
     "user_tz": -180
    },
    "id": "fTtYgud7YNDp",
    "outputId": "0c10f72e-ef75-423e-f22a-ff2dffae6be3"
   },
   "outputs": [
    {
     "name": "stdout",
     "output_type": "stream",
     "text": [
      "Epoch 0 | Cost: 0.6930192632207394\n",
      "Epoch 50000 | Cost: 0.35638040166813484\n"
     ]
    },
    {
     "data": {
      "image/png": "[encoded data removed]",
      "text/plain": [
       "<Figure size 1000x600 with 1 Axes>"
      ]
     },
     "metadata": {},
     "output_type": "display_data"
    }
   ],
   "source": [
    "pos = y == 1\n",
    "neg = y == 0\n",
    "theta_optimized = train_using_momentum(theta, X, y,0.01,0.01,0,100000)\n",
    "plot_decision_boundary(theta_optimized,X,y,0)\n"
   ]
  },
  {
   "cell_type": "code",
   "execution_count": null,
   "metadata": {
    "id": "udsq0xOKYNDp"
   },
   "outputs": [],
   "source": []
  }
 ],
 "metadata": {
  "colab": {
   "provenance": []
  },
  "kernelspec": {
   "display_name": "Python 3 (ipykernel)",
   "language": "python",
   "name": "python3"
  },
  "language_info": {
   "codemirror_mode": {
    "name": "ipython",
    "version": 3
   },
   "file_extension": ".py",
   "mimetype": "text/x-python",
   "name": "python",
   "nbconvert_exporter": "python",
   "pygments_lexer": "ipython3",
   "version": "3.11.7"
  }
 },
 "nbformat": 4,
 "nbformat_minor": 4
}
