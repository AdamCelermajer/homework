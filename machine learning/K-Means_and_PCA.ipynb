{
  "nbformat": 4,
  "nbformat_minor": 0,
  "metadata": {
    "colab": {
      "provenance": []
    },
    "kernelspec": {
      "name": "python3",
      "display_name": "Python 3"
    },
    "language_info": {
      "name": "python"
    }
  },
  "cells": [
    {
      "cell_type": "markdown",
      "source": [
        "<h1><center><b>Machine Learning</b></center></h1>\n",
        "<h3><center>Exercise 4</center></h3>\n",
        "<h4><center>K-Means and PCA<center></h4>"
      ],
      "metadata": {
        "id": "EsCTy0zC9SHV"
      }
    },
    {
      "cell_type": "markdown",
      "source": [
        "*Your* Name:  \n",
        "<font color='red'>\n",
        "FirstName1 LastName1, 123456789   \n",
        "</font>\n"
      ],
      "metadata": {
        "id": "ENazXVhp9b6c"
      }
    },
    {
      "cell_type": "markdown",
      "source": [
        "**Instructions:**\n",
        "- Create a copy of this notebook and implement your code in it.\n",
        "- Make sure you don't leave empty cells or empty answers.\n",
        "- You should not change the code we provided you.\n",
        "To Download the notebook go to **\"File\"** -> **\"Download .ipynb\"**.  \n",
        "- Submit deadline: 4/7/2024 at 23:59"
      ],
      "metadata": {
        "id": "E-rJpfLG9g6p"
      }
    },
    {
      "cell_type": "markdown",
      "source": [
        "## Part 1 - K-Means (50%)"
      ],
      "metadata": {
        "id": "aSrK_eWJ99xQ"
      }
    },
    {
      "cell_type": "markdown",
      "source": [
        "In this part you will have to implement the K-Means algorithm that was learned in class.<br>\n",
        "**The implementation will be based on the numpy package only.**"
      ],
      "metadata": {
        "id": "qzq9PKUp-H0n"
      }
    },
    {
      "cell_type": "markdown",
      "source": [
        "### **1. Useful packages**"
      ],
      "metadata": {
        "id": "D83wJkeL_9n1"
      }
    },
    {
      "cell_type": "code",
      "source": [
        "import matplotlib.pyplot as plt\n",
        "import numpy as np\n"
      ],
      "metadata": {
        "id": "Mc3GQcAxAEUW"
      },
      "execution_count": null,
      "outputs": []
    },
    {
      "cell_type": "markdown",
      "source": [
        "### **2. Data**"
      ],
      "metadata": {
        "id": "IeWKN9Ui_HNV"
      }
    },
    {
      "cell_type": "markdown",
      "source": [
        "Generate a 2D dataset"
      ],
      "metadata": {
        "id": "XAf-Nv3MC993"
      }
    },
    {
      "cell_type": "code",
      "source": [
        "## Generate 2D data\n",
        "X = np.concatenate([\n",
        "    np.random.normal([0, 0], size=(500, 2)),\n",
        "    np.random.normal([5, 5], size=(500, 2)),\n",
        "    np.random.normal([5, 0], size=(500, 2)),\n",
        "    np.random.normal([0, 5], size=(500, 2)),\n",
        "])\n",
        "\n",
        "# Shuffle the data\n",
        "np.random.shuffle(X)\n",
        "\n",
        "print(X.shape)"
      ],
      "metadata": {
        "id": "g7FO4zis_2w3"
      },
      "execution_count": null,
      "outputs": []
    },
    {
      "cell_type": "markdown",
      "source": [
        "Plot the data to explore how many clusters it contains"
      ],
      "metadata": {
        "id": "VoyoMpkrDDeG"
      }
    },
    {
      "cell_type": "code",
      "source": [
        "plt.scatter(X[:, 0], X[:, 1], cmap='viridis')"
      ],
      "metadata": {
        "id": "YXtUbujrDF6n"
      },
      "execution_count": null,
      "outputs": []
    },
    {
      "cell_type": "markdown",
      "source": [
        "### **3. K-Means**"
      ],
      "metadata": {
        "id": "tUKJF82J_yk8"
      }
    },
    {
      "cell_type": "markdown",
      "source": [
        "Implement the algorithm"
      ],
      "metadata": {
        "id": "9dNhpAgoDpWC"
      }
    },
    {
      "cell_type": "code",
      "source": [
        "class KMeans():\n",
        "    def __init__(self, n_clusters=8, max_iter=300):\n",
        "        self.n_clusters = n_clusters\n",
        "        self.max_iter = max_iter\n",
        "\n",
        "        ######## Helper fields #########\n",
        "        self.X_fit_ = None      # Here you should store the dataset X.\n",
        "                                # This can be useful for the next tasks.\n",
        "\n",
        "        self.labels_ = None     # Here you should store the final labels.\n",
        "                                # That is, the clusters indices for all the samples\n",
        "\n",
        "        self.centroids = None   # Here you should store the final centroids.\n",
        "\n",
        "        self.labels_history = []    # Here you should store the labels of each iteration.\n",
        "                                    # This can also be useful later.\n",
        "\n",
        "        self.centroids_history = [] # Here you should store the centroids of each iteration.\n",
        "                                    # This can also be useful later.\n",
        "\n",
        "        self.costs = []             # Here you should store the costs of the iterations.\n",
        "                                    # That is, you should calculate the cost in every iteration\n",
        "                                    # and store it in this list.\n",
        "\n",
        "\n",
        "    def fit(self, X):\n",
        "        #### YOUR CODE HERE ####\n",
        "        pass\n",
        "\n",
        "    def predict(self, X):\n",
        "        #### YOUR CODE HERE ####\n",
        "        return None\n",
        "\n",
        "    def _get_distances(self, X):\n",
        "        #### YOUR CODE HERE ####\n",
        "        return None\n",
        "\n",
        "    def _get_labels(self, X):\n",
        "        #### YOUR CODE HERE ####\n",
        "        return None\n",
        "\n",
        "    def _get_centroids(self, X, labels):\n",
        "        #### YOUR CODE HERE ####\n",
        "        return None\n",
        "\n",
        "    def _calculate_cost(self, X):\n",
        "        #### YOUR CODE HERE ####\n",
        "        return None\n",
        "\n",
        "\n"
      ],
      "metadata": {
        "id": "ny8vgRxr-kr7"
      },
      "execution_count": null,
      "outputs": []
    },
    {
      "cell_type": "markdown",
      "source": [
        "Run the algorithm on the 2D dataset"
      ],
      "metadata": {
        "id": "JlMvvsRtDuKE"
      }
    },
    {
      "cell_type": "code",
      "source": [
        "n_clusters = 4\n",
        "kmeans = KMeans(n_clusters=n_clusters)\n",
        "kmeans.fit(X)"
      ],
      "metadata": {
        "id": "1ltrnuTmDy57"
      },
      "execution_count": null,
      "outputs": []
    },
    {
      "cell_type": "markdown",
      "source": [
        "Plot a graph of the costs as a function of the iterations"
      ],
      "metadata": {
        "id": "iB0rdYDq0yFB"
      }
    },
    {
      "cell_type": "code",
      "source": [
        "costs = kmeans.costs\n",
        "plt.plot(costs)"
      ],
      "metadata": {
        "id": "6GW237FL06D8"
      },
      "execution_count": null,
      "outputs": []
    },
    {
      "cell_type": "markdown",
      "source": [
        "Now run the algorithm several more times with n_clusters = 2, 3, 4, 6, 8, 10, 20 and write **below** the **final** cost you got in each experiment.<br>\n",
        "\n",
        "2 clusters: <br>\n",
        "3 clusters: <br>\n",
        "4 clusters: <br>\n",
        "6 clusters: <br>\n",
        "8 clusters: <br>\n",
        "10 clusters: <br>\n",
        "20 clusters: <br>"
      ],
      "metadata": {
        "id": "CH-CB-R05K4t"
      }
    },
    {
      "cell_type": "markdown",
      "source": [
        "Now write a code that plots the clusters and the locations of the centroids at each iteration"
      ],
      "metadata": {
        "id": "rgu1Yp6kF3BK"
      }
    },
    {
      "cell_type": "code",
      "source": [
        "########################\n",
        "#### YOUR CODE HERE ####\n",
        "########################"
      ],
      "metadata": {
        "id": "LeGPLX1eGAqr"
      },
      "execution_count": null,
      "outputs": []
    },
    {
      "cell_type": "markdown",
      "source": [
        "## Part 2 - PCA (50%)"
      ],
      "metadata": {
        "id": "SZIOmLRjRQrH"
      }
    },
    {
      "cell_type": "markdown",
      "source": [
        "In this part you will implement the PCA algorithm on the MNIST dataset.<br>\n",
        "**As in the first part, your implementation will be based on the numpy package only.**"
      ],
      "metadata": {
        "id": "XnZdSD1DRZpP"
      }
    },
    {
      "cell_type": "markdown",
      "source": [
        "### **1. Useful packages**"
      ],
      "metadata": {
        "id": "TqiQPAkRRkKV"
      }
    },
    {
      "cell_type": "code",
      "source": [
        "import matplotlib.pyplot as plt\n",
        "import numpy as np\n",
        "\n",
        "from sklearn.datasets import fetch_openml"
      ],
      "metadata": {
        "id": "xLe3HumcRlkr"
      },
      "execution_count": null,
      "outputs": []
    },
    {
      "cell_type": "markdown",
      "source": [
        "### **2. Data**"
      ],
      "metadata": {
        "id": "MoVVeYo4TGOK"
      }
    },
    {
      "cell_type": "markdown",
      "source": [
        "Load the MNIST dataset from sklearn datasets."
      ],
      "metadata": {
        "id": "hkaaHq1LTKUH"
      }
    },
    {
      "cell_type": "code",
      "source": [
        "X, y = fetch_openml('mnist_784', version=1, return_X_y=True, as_frame=False)"
      ],
      "metadata": {
        "id": "XZINZxiETIvx"
      },
      "execution_count": null,
      "outputs": []
    },
    {
      "cell_type": "markdown",
      "source": [
        "### **3. PCA**"
      ],
      "metadata": {
        "id": "YuN_lfDyTcrv"
      }
    },
    {
      "cell_type": "markdown",
      "source": [
        "Implement the PCA algorithm here.<br> Don't forget to center the data, i.e. make the mean of the columns of the dataset to 0."
      ],
      "metadata": {
        "id": "5q5olJ7tTffw"
      }
    },
    {
      "cell_type": "code",
      "source": [
        "import numpy as np\n",
        "\n",
        "class PCA:\n",
        "    def __init__(self):\n",
        "        self.V = None\n",
        "\n",
        "    def fit(self, X):\n",
        "        #### YOUR CODE HERE ####\n",
        "\n",
        "    def transform(self, X, n_dimentions):\n",
        "        #### YOUR CODE HERE ####\n",
        "\n",
        "        return X_reduced\n",
        "\n"
      ],
      "metadata": {
        "id": "X_x8IQO3Tq2U"
      },
      "execution_count": null,
      "outputs": []
    },
    {
      "cell_type": "markdown",
      "source": [
        "Run the algorithm on MNIST dataset."
      ],
      "metadata": {
        "id": "INE89zXrT_dM"
      }
    },
    {
      "cell_type": "code",
      "source": [
        "pca = PCA()\n",
        "pca.fit(X)\n",
        "\n",
        "# transform the data to the top 2 principal components\n",
        "X_reduced = pca.transform(X, 2)"
      ],
      "metadata": {
        "id": "hh59DCwGUCMP"
      },
      "execution_count": null,
      "outputs": []
    },
    {
      "cell_type": "markdown",
      "source": [
        "Plot the data in the top 2 principal component space."
      ],
      "metadata": {
        "id": "O48RzbXOUPjM"
      }
    },
    {
      "cell_type": "code",
      "source": [
        "y = [int(label) for label in y]\n",
        "fig, ax = plt.subplots()\n",
        "scatter = ax.scatter(X_reduced[:, 0], X_reduced[:, 1], c=y, cmap='viridis')\n",
        "\n",
        "cbar = fig.colorbar(scatter)\n",
        "cbar.set_label('Labels')\n",
        "\n",
        "ax.set_xlabel('Principal component 1')\n",
        "ax.set_ylabel('Principal component 2')\n",
        "\n",
        "plt.show()"
      ],
      "metadata": {
        "id": "0CfBwAW4UTiA"
      },
      "execution_count": null,
      "outputs": []
    },
    {
      "cell_type": "markdown",
      "source": [
        "As we showed in class, $V\\in \\mathbb{R}^{d\\times r}$  is the matrix whose colmns are the top  $r$ eigenvectors of $X^TX$. That is, the eigenvectors that correspond to the  $r$ largest eigenvalues. <br>\n",
        "In the cell below, Write a code that plots the two matrices $V^TV$ and $VV^T$.<br>\n",
        "Explain the differences between the two matrices"
      ],
      "metadata": {
        "id": "WX-4vDUTC7xY"
      }
    },
    {
      "cell_type": "code",
      "source": [
        "########################\n",
        "#### YOUR CODE HERE ####\n",
        "########################\n"
      ],
      "metadata": {
        "id": "X4OQ4RCwC62w"
      },
      "execution_count": null,
      "outputs": []
    },
    {
      "cell_type": "markdown",
      "source": [
        "Your Explanation:"
      ],
      "metadata": {
        "id": "Ayk_w_2xgl9V"
      }
    },
    {
      "cell_type": "markdown",
      "source": [
        "Now write a function that projects a sample to a n-dimentional space  and **recontsturct** it to the original space."
      ],
      "metadata": {
        "id": "MIFE_HBj7_Sm"
      }
    },
    {
      "cell_type": "code",
      "source": [
        "def pca_reconstruction(x, n_dimentions):\n",
        "    #### YOUR CODE HERE ####\n",
        "    return x_reconstructed"
      ],
      "metadata": {
        "id": "Kt1Hkaed8sF_"
      },
      "execution_count": null,
      "outputs": []
    },
    {
      "cell_type": "markdown",
      "source": [
        "Now write code that samples a random image from the dataset, and uses the function above to project it into n-dimensional space and reconstruct it to the original space. <br><br>\n",
        "Is the reconstructed image the original image?\n",
        "<br><br>\n",
        "\n",
        "Perform the reconstruction above from spaces of dimensions: 3, 10, 100.<br>\n"
      ],
      "metadata": {
        "id": "yYABHvkB_Eoa"
      }
    },
    {
      "cell_type": "code",
      "source": [
        "########################\n",
        "#### YOUR CODE HERE ####\n",
        "########################"
      ],
      "metadata": {
        "id": "_KrMm1rs_wtf"
      },
      "execution_count": null,
      "outputs": []
    }
  ]
}